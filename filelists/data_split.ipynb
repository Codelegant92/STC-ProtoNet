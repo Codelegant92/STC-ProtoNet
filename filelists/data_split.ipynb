{
 "cells": [
  {
   "cell_type": "code",
   "execution_count": 1,
   "metadata": {},
   "outputs": [],
   "source": [
    "import csv\n",
    "import os\n",
    "import random\n",
    "import numpy as np"
   ]
  },
  {
   "cell_type": "code",
   "execution_count": 2,
   "metadata": {},
   "outputs": [],
   "source": [
    "#train_commands = [\"yes\", \"no\", \"up\", \"down\", \"left\", \"right\", \"on\", \"cat\", \"off\", \"tree\", \"house\", \"bird\", \"stop\", \"go\", \"visual\", \"backward\", \"follow\", \"forward\", \"learn\", \"sheila\", \"unknown\"]\n",
    "#test_commands = [\"zero\", \"one\", \"two\", \"three\", \"four\", \"five\", \"six\", \"seven\", \"eight\", \"nine\", \"unknown\"]\n",
    "train_commands = [\"zero\", \"one\", \"two\", \"three\", \"four\", \"five\", \"six\", \"seven\", \"eight\", \"nine\", \"cat\", \"tree\", \"house\", \"bird\", \"visual\", \"backward\", \"follow\", \"forward\", \"learn\", \"sheila\", \"unknown\"]\n",
    "test_commands = [\"yes\", \"no\", \"up\", \"down\", \"left\", \"right\", \"on\", \"off\", \"stop\", \"go\", \"unknown\"]\n",
    "unk_commands = [\"bed\", \"dog\", \"happy\", \"marvin\", \"wow\"]"
   ]
  },
  {
   "cell_type": "code",
   "execution_count": 3,
   "metadata": {},
   "outputs": [
    {
     "name": "stdout",
     "output_type": "stream",
     "text": [
      "2014\n",
      "1812\n",
      "2128\n",
      "1915\n",
      "2054\n",
      "1848\n",
      "2100\n",
      "1890\n",
      "2123\n",
      "1910\n"
     ]
    }
   ],
   "source": [
    "np.random.seed(1)\n",
    "root = \"speech_commands/unknown\"\n",
    "unk_train = []\n",
    "unk_test = []\n",
    "for unk_command in unk_commands:\n",
    "    unk_command_filelist = os.listdir(os.path.join(root, unk_command))\n",
    "    np.random.shuffle(unk_command_filelist)\n",
    "    num_unk_command_files = len(unk_command_filelist)\n",
    "    print(num_unk_command_files)\n",
    "    num_unk_command_files_train = int(num_unk_command_files * 0.9)\n",
    "    print(num_unk_command_files_train)\n",
    "    unk_command_filelist_train = unk_command_filelist[:num_unk_command_files_train]\n",
    "    unk_command_filelist_test = unk_command_filelist[num_unk_command_files_train:]\n",
    "    unk_train.extend([(os.path.join(os.path.join(\"unknown\", unk_command), unk_command_file), \"unknown\") for unk_command_file in unk_command_filelist_train])\n",
    "    unk_test.extend([(os.path.join(os.path.join(\"unknown\", unk_command), unk_command_file), \"unknown\") for unk_command_file in unk_command_filelist_test])"
   ]
  },
  {
   "cell_type": "code",
   "execution_count": 4,
   "metadata": {},
   "outputs": [],
   "source": [
    "command_train = []\n",
    "command_test = []\n",
    "root = \"speech_commands\"\n",
    "for train_command in train_commands:\n",
    "    train_command_filelist = os.listdir(os.path.join(root, train_command))\n",
    "    command_train.extend([(os.path.join(train_command, train_command_file), train_command) for train_command_file in train_command_filelist])\n",
    "\n",
    "for test_command in test_commands:\n",
    "    test_command_filelist = os.listdir(os.path.join(root, test_command))\n",
    "    command_test.extend([(os.path.join(test_command, test_command_file), test_command) for test_command_file in test_command_filelist])\n",
    "    \n"
   ]
  },
  {
   "cell_type": "code",
   "execution_count": 5,
   "metadata": {},
   "outputs": [],
   "source": [
    "all_train_commands = command_train + unk_train\n",
    "all_test_commands = command_test + unk_test"
   ]
  },
  {
   "cell_type": "code",
   "execution_count": 6,
   "metadata": {},
   "outputs": [],
   "source": [
    "with open('train_commands.csv', 'w', newline='') as csvfile_train:\n",
    "    writer = csv.writer(csvfile_train)\n",
    "    writer.writerow(('filename', 'label'))\n",
    "    for filename_label_tuple in all_train_commands:\n",
    "        writer.writerow(filename_label_tuple)        "
   ]
  },
  {
   "cell_type": "code",
   "execution_count": 7,
   "metadata": {},
   "outputs": [],
   "source": [
    "with open('test_commands.csv', 'w', newline='') as csvfile_test:\n",
    "    writer = csv.writer(csvfile_test)\n",
    "    writer.writerow(('filename', 'label'))\n",
    "    for filename_label_tuple in all_test_commands:\n",
    "        writer.writerow(filename_label_tuple) "
   ]
  },
  {
   "cell_type": "code",
   "execution_count": 6,
   "metadata": {},
   "outputs": [
    {
     "name": "stderr",
     "output_type": "stream",
     "text": [
      "/home/robin/.conda/envs/py36cuda10torch/lib/python3.6/site-packages/ipykernel_launcher.py:10: FutureWarning: Using a non-tuple sequence for multidimensional indexing is deprecated; use `arr[tuple(seq)]` instead of `arr[seq]`. In the future this will be interpreted as an array index, `arr[np.array(seq)]`, which will result either in an error or a different result.\n",
      "  # Remove the CWD from sys.path while we load stuff.\n"
     ]
    },
    {
     "data": {
      "image/png": "[encoded data removed]",
      "text/plain": [
       "<Figure size 720x288 with 2 Axes>"
      ]
     },
     "metadata": {
      "needs_background": "light"
     },
     "output_type": "display_data"
    }
   ],
   "source": [
    "import librosa\n",
    "import numpy as np\n",
    "import matplotlib.pyplot as plt\n",
    "import librosa.display\n",
    "\n",
    "path = \"speech_commands/backward/0a2b400e_nohash_0.wav\"\n",
    "wave = librosa.load(path, sr=16000)[0]\n",
    "spectrogram = librosa.feature.melspectrogram(wave, sr=16000, n_mels=40, hop_length=160, n_fft=480, fmin=20, fmax=4000)\n",
    "idx = [spectrogram > 0]\n",
    "spectrogram[idx] = np.log(spectrogram[idx])\n",
    "mfcc = librosa.feature.mfcc(S=spectrogram, n_mfcc=40, dct_type=2).astype(np.float32)\n",
    "plt.figure(figsize=(10,4))\n",
    "librosa.display.specshow(mfcc, x_axis='time')\n",
    "plt.colorbar()\n",
    "plt.title('MFCC')\n",
    "plt.tight_layout()\n",
    "plt.show()"
   ]
  },
  {
   "cell_type": "code",
   "execution_count": 2,
   "metadata": {},
   "outputs": [
    {
     "name": "stdout",
     "output_type": "stream",
     "text": [
      "0.7.0\n"
     ]
    }
   ],
   "source": [
    "print(librosa.__version__)"
   ]
  },
  {
   "cell_type": "code",
   "execution_count": 3,
   "metadata": {},
   "outputs": [
    {
     "ename": "AttributeError",
     "evalue": "module 'librosa' has no attribute 'display'",
     "output_type": "error",
     "traceback": [
      "\u001b[0;31m---------------------------------------------------------------------------\u001b[0m",
      "\u001b[0;31mAttributeError\u001b[0m                            Traceback (most recent call last)",
      "\u001b[0;32m<ipython-input-3-2cdb3b82a78a>\u001b[0m in \u001b[0;36m<module>\u001b[0;34m\u001b[0m\n\u001b[0;32m----> 1\u001b[0;31m \u001b[0mlibrosa\u001b[0m\u001b[0;34m.\u001b[0m\u001b[0mdisplay\u001b[0m\u001b[0;34m\u001b[0m\u001b[0;34m\u001b[0m\u001b[0m\n\u001b[0m",
      "\u001b[0;31mAttributeError\u001b[0m: module 'librosa' has no attribute 'display'"
     ]
    }
   ],
   "source": [
    "librosa.display"
   ]
  },
  {
   "cell_type": "code",
   "execution_count": 1,
   "metadata": {},
   "outputs": [],
   "source": [
    "import matplotlib\n",
    "import matplotlib.pyplot as plt\n",
    "import numpy as np"
   ]
  },
  {
   "cell_type": "code",
   "execution_count": 13,
   "metadata": {},
   "outputs": [
    {
     "data": {
      "image/png": "[encoded data removed]",
      "text/plain": [
       "<Figure size 432x288 with 1 Axes>"
      ]
     },
     "metadata": {
      "needs_background": "light"
     },
     "output_type": "display_data"
    }
   ],
   "source": [
    "x = np.array([1,5,10,20,30,50,100])\n",
    "y1 = np.array([18.14,24.83,28.07,33.24,36.85,41.99,51.07])\n",
    "y2 = np.array([47.42,63.22,69.48,73.13,75.47,77.38,78.48])\n",
    "\n",
    "fig, ax = plt.subplots()\n",
    "ax.plot(x, y1, 'ro-', color='r', label='Supervised learning')\n",
    "ax.plot(x, y2, 'ro-', color='b', label='MAML-ext')\n",
    "legend = ax.legend(loc='lower right')\n",
    "plt.xlabel(\"Number of shot\")\n",
    "plt.ylabel(\"Accuracy(%)\")\n",
    "#for i,j in zip(x, y1):\n",
    "    #ax.annotate(str(j), xy=(i,j))\n",
    "#for i,j in zip(x, y2):\n",
    "    #ax.annotate(str(j), xy=(i,j))\n",
    "plt.savefig('accuracy_digits.png')\n",
    "plt.show()"
   ]
  },
  {
   "cell_type": "code",
   "execution_count": 1,
   "metadata": {},
   "outputs": [],
   "source": [
    "import csv\n",
    "import os\n",
    "import random\n",
    "import numpy as np"
   ]
  },
  {
   "cell_type": "code",
   "execution_count": 2,
   "metadata": {},
   "outputs": [],
   "source": [
    "train_commands = [\"zero\", \"one\", \"two\", \"three\", \"four\", \"five\", \"six\", \"seven\", \"eight\", \"nine\"]"
   ]
  },
  {
   "cell_type": "code",
   "execution_count": 3,
   "metadata": {},
   "outputs": [],
   "source": [
    "command_train = []\n",
    "command_test = []\n",
    "root = \"speech_commands\"\n",
    "for train_command in train_commands:\n",
    "    train_command_filelist = os.listdir(os.path.join(root, train_command))\n",
    "    np.random.shuffle(train_command_filelist)\n",
    "    len_filelist = len(train_command_filelist)\n",
    "    num_train_file = int(len_filelist * 0.9)\n",
    "    command_train.extend([(os.path.join(train_command, train_command_file), train_command) for train_command_file in train_command_filelist[:num_train_file]])\n",
    "    command_test.extend([(os.path.join(train_command, train_command_file), train_command) for train_command_file in train_command_filelist[num_train_file:]])"
   ]
  },
  {
   "cell_type": "code",
   "execution_count": 6,
   "metadata": {},
   "outputs": [],
   "source": [
    "with open('train_upperbound.csv', 'w', newline='') as csvfile_train:\n",
    "    writer = csv.writer(csvfile_train)\n",
    "    writer.writerow(('filename', 'label'))\n",
    "    for filename_label_tuple in command_train:\n",
    "        writer.writerow(filename_label_tuple)        "
   ]
  },
  {
   "cell_type": "code",
   "execution_count": 7,
   "metadata": {},
   "outputs": [],
   "source": [
    "with open('test_upperbound.csv', 'w', newline='') as csvfile_test:\n",
    "    writer = csv.writer(csvfile_test)\n",
    "    writer.writerow(('filename', 'label'))\n",
    "    for filename_label_tuple in command_test:\n",
    "        writer.writerow(filename_label_tuple) "
   ]
  },
  {
   "cell_type": "code",
   "execution_count": 9,
   "metadata": {},
   "outputs": [],
   "source": [
    "import csv\n",
    "import os\n",
    "import random\n",
    "import numpy as np"
   ]
  },
  {
   "cell_type": "code",
   "execution_count": 10,
   "metadata": {},
   "outputs": [],
   "source": [
    "train_commands = [\"yes\", \"no\", \"up\", \"down\", \"left\", \"right\", \"on\", \"cat\", \"off\", \"tree\", \"house\", \"bird\", \"stop\", \"go\", \"visual\", \"backward\", \"follow\", \"forward\", \"learn\", \"sheila\"]\n",
    "test_commands = [\"zero\", \"one\", \"two\", \"three\", \"four\", \"five\", \"six\", \"seven\", \"eight\", \"nine\"]\n",
    "val_commands = [[\"zero\", \"one\", \"two\", \"three\", \"four\", \"five\", \"six\", \"seven\", \"eight\", \"nine\"]]\n",
    "unk_commands = [\"bed\", \"dog\", \"happy\", \"marvin\", \"wow\"]"
   ]
  },
  {
   "cell_type": "code",
   "execution_count": 11,
   "metadata": {},
   "outputs": [
    {
     "name": "stdout",
     "output_type": "stream",
     "text": [
      "2014\n",
      "805\n",
      "604\n",
      "2128\n",
      "851\n",
      "638\n",
      "2054\n",
      "821\n",
      "616\n",
      "2100\n",
      "840\n",
      "630\n",
      "2123\n",
      "849\n",
      "636\n"
     ]
    }
   ],
   "source": [
    "np.random.seed(1)\n",
    "root = \"speech_commands/unknown\"\n",
    "unk_train = []\n",
    "unk_val = []\n",
    "unk_test = []\n",
    "for unk_command in unk_commands:\n",
    "    unk_command_filelist = os.listdir(os.path.join(root, unk_command))\n",
    "    np.random.shuffle(unk_command_filelist)\n",
    "    num_unk_command_files = len(unk_command_filelist)\n",
    "    print(num_unk_command_files)\n",
    "    num_unk_command_files_train = int(num_unk_command_files * 0.4)\n",
    "    print(num_unk_command_files_train)\n",
    "    num_unk_command_files_val = int(num_unk_command_files * 0.3)\n",
    "    print(num_unk_command_files_val)\n",
    "    \n",
    "    unk_command_filelist_train = unk_command_filelist[:num_unk_command_files_train]\n",
    "    unk_command_filelist_val = unk_command_filelist[num_unk_command_files_train:(num_unk_command_files_train+num_unk_command_files_val)]\n",
    "    unk_command_filelist_test = unk_command_filelist[(num_unk_command_files_train+num_unk_command_files_val):]\n",
    "    \n",
    "    unk_train.extend([(os.path.join(os.path.join(\"unknown\", unk_command), unk_command_file), \"unknown\") for unk_command_file in unk_command_filelist_train])\n",
    "    unk_val.extend([(os.path.join(os.path.join(\"unknown\", unk_command), unk_command_file), \"unknown_val\") for unk_command_file in unk_command_filelist_val])\n",
    "    unk_test.extend([(os.path.join(os.path.join(\"unknown\", unk_command), unk_command_file), \"unknown_test\") for unk_command_file in unk_command_filelist_test])"
   ]
  },
  {
   "cell_type": "code",
   "execution_count": 12,
   "metadata": {},
   "outputs": [],
   "source": [
    "command_train = []\n",
    "command_val = []\n",
    "command_test = []\n",
    "root = \"speech_commands\"\n",
    "\n",
    "for train_command in train_commands:\n",
    "    train_command_filelist = os.listdir(os.path.join(root, train_command))\n",
    "    command_train.extend([(os.path.join(train_command, train_command_file), train_command) for train_command_file in train_command_filelist])\n",
    "\n",
    "for command in test_commands:\n",
    "    command_filelist = os.listdir(os.path.join(root, command))\n",
    "    np.random.shuffle(command_filelist)\n",
    "    num_command_files = len(command_filelist)\n",
    "    num_command_files_val = int(num_command_files * 0.5)\n",
    "    \n",
    "    val_command_filelist = command_filelist[:num_command_files_val]\n",
    "    test_command_filelist = command_filelist[num_command_files_val:]\n",
    "    \n",
    "    command_val.extend([(os.path.join(command, val_command_file), command+'_val') for val_command_file in val_command_filelist])\n",
    "    command_test.extend([(os.path.join(command, test_command_file), command+'_test') for test_command_file in test_command_filelist])"
   ]
  },
  {
   "cell_type": "code",
   "execution_count": 13,
   "metadata": {},
   "outputs": [],
   "source": [
    "all_train_commands = command_train + unk_train\n",
    "all_val_commands = command_val + unk_val\n",
    "all_test_commands = command_test + unk_test"
   ]
  },
  {
   "cell_type": "code",
   "execution_count": 14,
   "metadata": {},
   "outputs": [],
   "source": [
    "with open('2020_train_commands.csv', 'w', newline='') as csvfile_train:\n",
    "    writer = csv.writer(csvfile_train)\n",
    "    for filename_label_tuple in command_train:\n",
    "        writer.writerow(filename_label_tuple)        \n",
    "        \n",
    "with open('2020_unk_train.csv', 'w', newline='') as csvfile_train:\n",
    "    writer = csv.writer(csvfile_train)\n",
    "    for filename_label_tuple in unk_train:\n",
    "        writer.writerow(filename_label_tuple)  "
   ]
  },
  {
   "cell_type": "code",
   "execution_count": 15,
   "metadata": {},
   "outputs": [],
   "source": [
    "with open('2020_val_commands.csv', 'w', newline='') as csvfile_val:\n",
    "    writer = csv.writer(csvfile_val)\n",
    "    for filename_label_tuple in command_val:\n",
    "        writer.writerow(filename_label_tuple) \n",
    "\n",
    "with open('2020_unk_val.csv', 'w', newline='') as csvfile_val:\n",
    "    writer = csv.writer(csvfile_val)\n",
    "    for filename_label_tuple in unk_val:\n",
    "        writer.writerow(filename_label_tuple) "
   ]
  },
  {
   "cell_type": "code",
   "execution_count": 16,
   "metadata": {},
   "outputs": [],
   "source": [
    "with open('2020_test_commands.csv', 'w', newline='') as csvfile_test:\n",
    "    writer = csv.writer(csvfile_test)\n",
    "    for filename_label_tuple in command_test:\n",
    "        writer.writerow(filename_label_tuple) \n",
    "        \n",
    "with open('2020_unk_test.csv', 'w', newline='') as csvfile_test:\n",
    "    writer = csv.writer(csvfile_test)\n",
    "    for filename_label_tuple in unk_test:\n",
    "        writer.writerow(filename_label_tuple) "
   ]
  },
  {
   "cell_type": "code",
   "execution_count": 18,
   "metadata": {},
   "outputs": [],
   "source": [
    "with open('2020_silence_train.csv', 'w', newline='') as csvfile_train:\n",
    "    writer = csv.writer(csvfile_train)\n",
    "    i = 0\n",
    "    while(i < 4166):\n",
    "        writer.writerow(('silence/random_generated_silence.wav', 'silence'))\n",
    "        i += 1\n",
    "\n",
    "with open('2020_silence_val.csv', 'w', newline='') as csvfile_train:\n",
    "    writer = csv.writer(csvfile_train)\n",
    "    i = 0\n",
    "    while(i < 3124):\n",
    "        writer.writerow(('silence/random_generated_silence.wav', 'silence_val'))\n",
    "        i += 1\n",
    "\n",
    "with open('2020_silence_test.csv', 'w', newline='') as csvfile_train:\n",
    "    writer = csv.writer(csvfile_train)\n",
    "    i = 0\n",
    "    while(i < 3129):\n",
    "        writer.writerow(('silence/random_generated_silence.wav', 'silence_test'))\n",
    "        i += 1"
   ]
  },
  {
   "cell_type": "code",
   "execution_count": null,
   "metadata": {},
   "outputs": [],
   "source": []
  }
 ],
 "metadata": {
  "kernelspec": {
   "display_name": "Python 3",
   "language": "python",
   "name": "python3"
  },
  "language_info": {
   "codemirror_mode": {
    "name": "ipython",
    "version": 3
   },
   "file_extension": ".py",
   "mimetype": "text/x-python",
   "name": "python",
   "nbconvert_exporter": "python",
   "pygments_lexer": "ipython3",
   "version": "3.6.8"
  }
 },
 "nbformat": 4,
 "nbformat_minor": 2
}
